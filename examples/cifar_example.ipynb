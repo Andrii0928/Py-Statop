{
 "cells": [
  {
   "cell_type": "code",
   "execution_count": 1,
   "metadata": {},
   "outputs": [],
   "source": [
    "import math\n",
    "import torch\n",
    "import torchvision\n",
    "import statopt"
   ]
  },
  {
   "cell_type": "code",
   "execution_count": 2,
   "metadata": {},
   "outputs": [
    {
     "name": "stderr",
     "output_type": "stream",
     "text": [
      "\r",
      "0it [00:00, ?it/s]"
     ]
    },
    {
     "name": "stdout",
     "output_type": "stream",
     "text": [
      "Preparing data ...\n",
      "Downloading https://www.cs.toronto.edu/~kriz/cifar-10-python.tar.gz to ../data/cifar-10-python.tar.gz\n"
     ]
    },
    {
     "name": "stderr",
     "output_type": "stream",
     "text": [
      "170500096it [00:04, 39303301.73it/s]                               \n"
     ]
    },
    {
     "name": "stdout",
     "output_type": "stream",
     "text": [
      "Files already downloaded and verified\n"
     ]
    }
   ],
   "source": [
    "#----------------------------------------------------\n",
    "# Prepare datasets, download to the directory ../data \n",
    "print('Preparing data ...')\n",
    "batch_size = 128\n",
    "normalizer = torchvision.transforms.Normalize((0.4914, 0.4822, 0.4465),\n",
    "                                              (0.2023, 0.1994, 0.2010))\n",
    "transform_train = torchvision.transforms.Compose(\n",
    "                 [torchvision.transforms.RandomCrop(32, padding=4),\n",
    "                  torchvision.transforms.RandomHorizontalFlip(),\n",
    "                  torchvision.transforms.ToTensor(), normalizer,])\n",
    "trainset = torchvision.datasets.CIFAR10(root='../data', train=True,\n",
    "                                        download=True, \n",
    "                                        transform=transform_train)\n",
    "sampler = torch.utils.data.sampler.RandomSampler(trainset)\n",
    "trainloader = torch.utils.data.DataLoader(trainset, batch_size=batch_size,\n",
    "                                          sampler=sampler, num_workers=4)\n",
    "transform_test = torchvision.transforms.Compose(\n",
    "                [torchvision.transforms.ToTensor(), normalizer,])\n",
    "testset = torchvision.datasets.CIFAR10(root='../data', train=False,\n",
    "                                       download=True, \n",
    "                                       transform=transform_test)\n",
    "testloader = torch.utils.data.DataLoader(testset, batch_size=batch_size,\n",
    "                                         shuffle=False, num_workers=4)"
   ]
  },
  {
   "cell_type": "code",
   "execution_count": 3,
   "metadata": {},
   "outputs": [],
   "source": [
    "#-----------------------------------------------\n",
    "# Choose device, network model and loss function\n",
    "device = 'cuda' if torch.cuda.is_available() else 'cpu'\n",
    "net = torchvision.models.resnet18(num_classes=10)\n",
    "\n",
    "cifarify = True\n",
    "if cifarify:\n",
    "    class Identity(torch.nn.Module):\n",
    "        def __init__(self):\n",
    "            super(Identity, self).__init__()\n",
    "\n",
    "        def forward(self, x):\n",
    "            return x\n",
    "\n",
    "    net.conv1 = torch.nn.Conv2d(3, 64, kernel_size=3, stride=1, padding=1)\n",
    "    net.maxpool = Identity()\n",
    "\n",
    "net = net.to(device)\n",
    "loss_func = torch.nn.CrossEntropyLoss()"
   ]
  },
  {
   "cell_type": "code",
   "execution_count": 10,
   "metadata": {},
   "outputs": [],
   "source": [
    "#--------------------------------------------------------\n",
    "# Choose optimizer from the list ['sgd', 'sasa', 'salsa']\n",
    "optimizer_name = 'sgd'\n",
    "print('Using optimier {}'.format(optimizer_name))\n",
    "\n",
    "if optimizer_name == 'sasa':\n",
    "    testfreq = min(1000, len(trainloader))\n",
    "    optimizer = statopt.SASA(net.parameters(), lr=1.0, \n",
    "                             momentum=0.9, weight_decay=5e-4, \n",
    "                             testfreq=testfreq)\n",
    "elif optimizer_name == 'salsa':\n",
    "    gamma = math.sqrt(batch_size/len(trainset))     \n",
    "    testfreq = min(1000, len(trainloader))\n",
    "    optimizer = statopt.SALSA(net.parameters(), lr=1e-3, \n",
    "                              momentum=0.9, weight_decay=5e-4, \n",
    "                              gamma=gamma, testfreq=testfreq)\n",
    "else:\n",
    "    optimizer_name = 'sgd'  # SGD with a Step learning rate scheduler\n",
    "    optimizer = torch.optim.SGD(net.parameters(), lr=0.1,\n",
    "                                momentum=0.9, weight_decay=5e-4)\n",
    "    scheduler = torch.optim.lr_scheduler.StepLR(optimizer, step_size=50*len(trainloader),\n",
    "                                                gamma=0.1, last_epoch=-1)"
   ]
  },
  {
   "cell_type": "code",
   "execution_count": 11,
   "metadata": {},
   "outputs": [
    {
     "name": "stdout",
     "output_type": "stream",
     "text": [
      "Start training ...\n",
      "    epoch   1: average loss 0.014\n",
      "    epoch   2: average loss 0.013\n",
      "Finished training.\n"
     ]
    }
   ],
   "source": [
    "#----------------------------------\n",
    "# Training the neural network model\n",
    "print('Start training ...')\n",
    "\n",
    "for epoch in range(250):\n",
    "    # Reset accumulative running loss at beginning or each epoch\n",
    "    running_loss = 0.0\n",
    "\n",
    "    for (images, labels) in trainloader:\n",
    "        # switch to train mode each time due to potential use of eval mode\n",
    "        net.train()\n",
    "    \n",
    "        # Compute model outputs and loss function \n",
    "        images, labels = images.to(device), labels.to(device)\n",
    "        outputs = net(images)\n",
    "        loss = loss_func(outputs, labels)\n",
    "    \n",
    "        # Compute gradient with back-propagation \n",
    "        optimizer.zero_grad()\n",
    "        loss.backward()\n",
    "    \n",
    "        # Call the step() method of different optimizers\n",
    "        if optimizer_name == 'sgd':\n",
    "            optimizer.step()\n",
    "            scheduler.step()\n",
    "        elif optimizer_name == 'sasa':\n",
    "            optimizer.step()\n",
    "        elif optimizer_name == 'salsa':\n",
    "            def eval_loss(eval_mode=True):\n",
    "                if eval_mode:\n",
    "                    net.eval()\n",
    "                with torch.no_grad():\n",
    "                    loss = loss_func(net(images), labels)\n",
    "                return loss\n",
    "            optimizer.step(closure=eval_loss)\n",
    "\n",
    "        # Accumulate running loss during each epoch\n",
    "        running_loss += loss.item()\n",
    "    print('    epoch {:3d}: average loss {:.3f}'.format(\n",
    "           epoch + 1, running_loss / len(trainset))) \n",
    "\n",
    "print('Finished training.')"
   ]
  },
  {
   "cell_type": "code",
   "execution_count": 12,
   "metadata": {},
   "outputs": [
    {
     "name": "stdout",
     "output_type": "stream",
     "text": [
      "Accuracy of the model on 10000 test images: 38.73 %\n"
     ]
    }
   ],
   "source": [
    "#-------------------------------------\n",
    "# Compute accuracy on the test dataset\n",
    "n_correct = 0\n",
    "n_testset = 0\n",
    "with torch.no_grad():\n",
    "    net.eval()\n",
    "    for (images, labels) in testloader:\n",
    "        images, labels = images.to(device), labels.to(device)\n",
    "        outputs = net(images)\n",
    "        _, predicted = torch.max(outputs.data, 1)\n",
    "        n_testset += labels.size(0)\n",
    "        n_correct += (predicted == labels).sum().item()\n",
    "\n",
    "print('Accuracy of the model on {} test images: {} %'.format(\n",
    "      n_testset, 100 * n_correct / n_testset))"
   ]
  },
  {
   "cell_type": "code",
   "execution_count": null,
   "metadata": {},
   "outputs": [],
   "source": []
  }
 ],
 "metadata": {
  "kernelspec": {
   "display_name": "Python 3",
   "language": "python",
   "name": "python3"
  },
  "language_info": {
   "codemirror_mode": {
    "name": "ipython",
    "version": 3
   },
   "file_extension": ".py",
   "mimetype": "text/x-python",
   "name": "python",
   "nbconvert_exporter": "python",
   "pygments_lexer": "ipython3",
   "version": "3.6.8"
  },
  "pycharm": {
   "stem_cell": {
    "cell_type": "raw",
    "source": [],
    "metadata": {
     "collapsed": false
    }
   }
  }
 },
 "nbformat": 4,
 "nbformat_minor": 2
}